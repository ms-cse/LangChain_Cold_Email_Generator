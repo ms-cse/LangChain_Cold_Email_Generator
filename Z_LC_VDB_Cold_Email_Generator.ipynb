{
 "cells": [
  {
   "cell_type": "markdown",
   "id": "f16b7946-2030-4a34-840f-73c52b7a7d7f",
   "metadata": {},
   "source": [
    "# Cold Email Generator using LangChain, and Chroma Vector Database"
   ]
  },
  {
   "cell_type": "markdown",
   "id": "1943075d-3f6a-4a65-b836-2c1e7c5773f7",
   "metadata": {},
   "source": [
    "## 1. Loading Modules"
   ]
  },
  {
   "cell_type": "code",
   "execution_count": 2,
   "id": "a2f5c333-2463-4f28-9434-c0538efd04cd",
   "metadata": {},
   "outputs": [],
   "source": [
    "import os\n",
    "import pandas as pd\n",
    "from dotenv import load_dotenv\n",
    "\n",
    "from langchain_community.document_loaders import WebBaseLoader\n",
    "\n",
    "from langchain_core.prompts import PromptTemplate\n",
    "from langchain_core.output_parsers import JsonOutputParser\n",
    "from langchain_core.documents import Document\n",
    "\n",
    "import uuid\n",
    "import chromadb\n",
    "\n",
    "from langchain_groq import ChatGroq\n",
    "\n",
    "from IPython.display import display, Markdown"
   ]
  },
  {
   "cell_type": "markdown",
   "id": "73ab408e-0ec8-4628-8d9c-fe272611e669",
   "metadata": {},
   "source": [
    "## 2. Setup ENV Config"
   ]
  },
  {
   "cell_type": "code",
   "execution_count": 3,
   "id": "27428538-c625-43fa-8889-bde4c2061552",
   "metadata": {},
   "outputs": [
    {
     "data": {
      "text/plain": [
       "True"
      ]
     },
     "execution_count": 3,
     "metadata": {},
     "output_type": "execute_result"
    }
   ],
   "source": [
    "load_dotenv()"
   ]
  },
  {
   "cell_type": "code",
   "execution_count": 4,
   "id": "0c0289d7-51a0-4ed1-9989-c29c23ecc385",
   "metadata": {},
   "outputs": [],
   "source": [
    "os.environ['GROQ_API_KEY'] = os.getenv('GROQ_API_KEY')"
   ]
  },
  {
   "cell_type": "markdown",
   "id": "6601c111-03b7-4b78-a825-47c41c264774",
   "metadata": {},
   "source": [
    "## 3. Global Configuration"
   ]
  },
  {
   "cell_type": "code",
   "execution_count": 6,
   "id": "4b69778e-b6f6-4fe2-a1d6-fbc3d17497de",
   "metadata": {},
   "outputs": [],
   "source": [
    "llm_model = 'llama-3.1-8b-instant'\n",
    "groq_llm = ChatGroq(model=llm_model, temperature=0.3) "
   ]
  },
  {
   "cell_type": "markdown",
   "id": "d126f4d7-d33e-435c-9f6b-d90a7ee3141f",
   "metadata": {},
   "source": [
    "## 4. Job Data Scrapping and Extraction"
   ]
  },
  {
   "cell_type": "markdown",
   "id": "54f7d3a7-4d19-4797-bbf0-c0b23384b020",
   "metadata": {},
   "source": [
    "### 4.1 Web Page Link for the Job Posting"
   ]
  },
  {
   "cell_type": "code",
   "execution_count": 7,
   "id": "4b1e2b65-a5a6-49f3-91ed-c68554cf7a2b",
   "metadata": {},
   "outputs": [],
   "source": [
    "### This web page must be an existing or current job posting page. Shouldn't be an old or removed one\n",
    "\n",
    "web_page = 'https://jobs.lever.co/paytm/43e1a748-88e0-4068-a934-8e519a72982b'"
   ]
  },
  {
   "cell_type": "markdown",
   "id": "f0721390-a680-46ce-abee-6c2099c2ce6a",
   "metadata": {},
   "source": [
    "### 4.2 Web Page Data Loading"
   ]
  },
  {
   "cell_type": "code",
   "execution_count": 8,
   "id": "db0a37d6-0eb9-48e0-9941-2ba10e375aa5",
   "metadata": {},
   "outputs": [],
   "source": [
    "page_loader = WebBaseLoader(web_page)\n",
    "\n",
    "page_data = page_loader.load()"
   ]
  },
  {
   "cell_type": "code",
   "execution_count": 9,
   "id": "15e82f23-e587-4f5a-974b-ef16f0d10099",
   "metadata": {},
   "outputs": [
    {
     "name": "stdout",
     "output_type": "stream",
     "text": [
      "Loaded Web Page: \"https://jobs.lever.co/paytm/43e1a748-88e0-4068-a934-8e519a72982b\"\n",
      "Job Post Title: \"Paytm - Business Analyst - Team Lead (NOIDA)\"\n"
     ]
    }
   ],
   "source": [
    "print(f'''Loaded Web Page: \"{page_data[0].metadata['source']}\"''')\n",
    "print(f'''Job Post Title: \"{page_data[0].metadata['title']}\"''')"
   ]
  },
  {
   "cell_type": "code",
   "execution_count": 10,
   "id": "3dcac2af-8621-4b88-9329-20a06d487e98",
   "metadata": {},
   "outputs": [
    {
     "data": {
      "text/markdown": [
       "Paytm - Business Analyst - Team Lead (NOIDA)Business Analyst - Team Lead (NOIDA)Noida, Uttar PradeshAnalytics – EDC Retail /On-roll /On-siteApply for this jobAbout Us: Paytm is India’s leading digital payments and financial services company, which is focused on driving consumers and merchants to its platform by offering them a variety of payment use cases. Paytm provides consumers with services like utility payments and money transfers, while empowering them to pay via Paytm Payment Instruments (PPI) like Paytm Wallet, Paytm UPI, Paytm Payments Bank Netbanking, Paytm FASTag and Paytm Postpaid - Buy Now, Pay Later. To merchants, Paytm offers acquiring devices like Soundbox, EDC, QR and Payment Gateway where payment aggregation is done through PPI and also other banks’ financial instruments. To further enhance merchants’ business, Paytm offers merchants commerce services through advertising and Paytm Mini app store. Operating on this platform leverage, the company then offers credit services such as merchant loans, personal loans and BNPL, sourced by its financial partners. About the Team: Analytics- Lending- CollectionsLiaison between the creditors and consumers. They are in charge of observing accounts to identify overdue payments, report collection activity, address client queries, and develop repayment plans. About the role: As a Business Analyst for Paytm Collections, you will be responsible for managing end-to-end projects for the Collections team. You will work closely with the business team to understand their requirements and translate them into detailed Business Requirement Documents (BRDs) for the Product team. You will also be responsible for project planning, prioritization, and tracking the progress of projects to ensure timely delivery of high-quality solutions. Expectations/ Requirements 1. Must have advance SQL experience2. Basic knowledge of Python3. Working experience on Google Looker or another visualization tool4. Should have worked on automation projects related to data integration, data extraction and data visualization.5. Should have advanced excel knowledge6. Should have built management reports, MIS and dashboardsExperience in VBA.7. Analytics and critical thinking is important8. Good to have worked on Looker Studio for visualization Superpowers/ Skills that will help you succeed in this role: 1.   Bachelor's degree in Computer Science, Engineering, or a related field.2.  1+ years of experience as a Project Manager, preferably in the      financial services or technology industry.3. Strong project management skills, including the ability to develop      and manage project plans, prioritize tasks, and track progress.4. Strong analytical and problem-solving skills, with the ability to      understand complex business problems and translate them into technical      requirements.5. Excellent communication and interpersonal skills, with the ability      to work effectively with cross-functional teams and stakeholders.6. Experience in market research and analysis is a plus7. Experience working with Agile methodologies is a plus. Education: Graduation/Post Graduation Why Join Us:1.  A collaborative output driven program that brings cohesiveness across businesses through technology. 2.  Improve the average revenue per use by increasing the cross-sell opportunities.3.  A solid 360 feedback from your peer teams on your support of their goals.4.  Respect, that is earned, not demanded from your peers and manager. Compensation:If you are the right fit, we believe in creating wealth for you.With enviable 500 mn+ registered users, 21 mn+ merchants and depth of data in our ecosystem, we are in a unique position to democratize credit for deserving consumers & merchants – and we are committed to it. India’s largest digital lending story is brewing here. It’s your opportunity to be a part of the story! Apply for this jobPaytm Home PageJobs powered by "
      ],
      "text/plain": [
       "<IPython.core.display.Markdown object>"
      ]
     },
     "metadata": {},
     "output_type": "display_data"
    }
   ],
   "source": [
    "data = page_data[0].page_content\n",
    "\n",
    "display(Markdown(data))"
   ]
  },
  {
   "cell_type": "markdown",
   "id": "ad0fac10-0fbe-45f6-be67-d5efd60c1d36",
   "metadata": {},
   "source": [
    "### 4.3 Prompt Template for Job Detail Extraction"
   ]
  },
  {
   "cell_type": "code",
   "execution_count": 11,
   "id": "460833f5-adf3-4cca-a5d0-81e634723965",
   "metadata": {},
   "outputs": [
    {
     "data": {
      "text/plain": [
       "PromptTemplate(input_variables=['text'], input_types={}, partial_variables={}, template=\"\\n### CONTEXT:\\nThe following context contains the scrapped data about the job posting from a website.\\n{text}\\n\\n### STRICT INSTRUCTION:\\nYour job is to extract the relevant information from the context provided above and convert it into simple JSON string.\\nDo not add anything from your side such as PREAMBLE, etc.\\n\\n### OUTPUT JSON STRING FORMAT:\\nCreate a JSON string with the following keys: 'Role', 'Location', 'Experience', 'Skills'\\n\")"
      ]
     },
     "execution_count": 11,
     "metadata": {},
     "output_type": "execute_result"
    }
   ],
   "source": [
    "job_template = \"\"\"\n",
    "### CONTEXT:\n",
    "The following context contains the scrapped data about the job posting from a website.\n",
    "{text}\n",
    "\n",
    "### STRICT INSTRUCTION:\n",
    "Your job is to extract the relevant information from the context provided above and convert it into simple JSON string.\n",
    "Do not add anything from your side such as PREAMBLE, etc.\n",
    "\n",
    "### OUTPUT JSON STRING FORMAT:\n",
    "Create a JSON string with the following keys: 'Role', 'Location', 'Experience', 'Skills'\n",
    "\"\"\"\n",
    "\n",
    "gen_job_template = PromptTemplate.from_template(job_template)\n",
    "gen_job_template"
   ]
  },
  {
   "cell_type": "markdown",
   "id": "12b31639-e1a9-49dd-94b6-de1a3b344bdd",
   "metadata": {},
   "source": [
    "### 4.4 GROQ API Call to Extract the Job Information"
   ]
  },
  {
   "cell_type": "code",
   "execution_count": 12,
   "id": "878a3a91-9732-4864-b730-fc46c72c070d",
   "metadata": {},
   "outputs": [],
   "source": [
    "chain_job = gen_job_template | groq_llm"
   ]
  },
  {
   "cell_type": "code",
   "execution_count": 13,
   "id": "c25f00f6-5dbb-4e19-b7bf-86ace5c98ebd",
   "metadata": {},
   "outputs": [],
   "source": [
    "resp_job = chain_job.invoke(input={'text':data})"
   ]
  },
  {
   "cell_type": "markdown",
   "id": "64147c45-b455-4cf3-9cb9-68f80b323f6b",
   "metadata": {},
   "source": [
    "### 4.5 GROQ Response"
   ]
  },
  {
   "cell_type": "code",
   "execution_count": 14,
   "id": "50546bbb-5070-4f80-a72f-0d33beb87a2f",
   "metadata": {},
   "outputs": [
    {
     "name": "stdout",
     "output_type": "stream",
     "text": [
      "{\n",
      "  \"Role\": \"Business Analyst - Team Lead\",\n",
      "  \"Location\": \"Noida, Uttar Pradesh\",\n",
      "  \"Experience\": {\n",
      "    \"Required\": \"1+ years of experience as a Project Manager\",\n",
      "    \"Preferred\": \"financial services or technology industry\"\n",
      "  },\n",
      "  \"Skills\": [\n",
      "    \"Advance SQL experience\",\n",
      "    \"Basic knowledge of Python\",\n",
      "    \"Google Looker or another visualization tool\",\n",
      "    \"Automation projects related to data integration, data extraction, and data visualization\",\n",
      "    \"Advanced excel knowledge\",\n",
      "    \"VBA\",\n",
      "    \"Analytics and critical thinking\",\n",
      "    \"Looker Studio for visualization\"\n",
      "  ]\n",
      "}\n"
     ]
    }
   ],
   "source": [
    "print(resp_job.content)"
   ]
  },
  {
   "cell_type": "code",
   "execution_count": 15,
   "id": "03df0d92-208d-4454-8883-c2c2c3c41a0d",
   "metadata": {},
   "outputs": [
    {
     "name": "stdout",
     "output_type": "stream",
     "text": [
      "Data Type of the Resposne: <class 'str'> \n",
      "\n",
      "Data Type of the Resposne: <class 'dict'> \n",
      "\n"
     ]
    },
    {
     "data": {
      "text/plain": [
       "{'Role': 'Business Analyst - Team Lead',\n",
       " 'Location': 'Noida, Uttar Pradesh',\n",
       " 'Experience': {'Required': '1+ years of experience as a Project Manager',\n",
       "  'Preferred': 'financial services or technology industry'},\n",
       " 'Skills': ['Advance SQL experience',\n",
       "  'Basic knowledge of Python',\n",
       "  'Google Looker or another visualization tool',\n",
       "  'Automation projects related to data integration, data extraction, and data visualization',\n",
       "  'Advanced excel knowledge',\n",
       "  'VBA',\n",
       "  'Analytics and critical thinking',\n",
       "  'Looker Studio for visualization']}"
      ]
     },
     "execution_count": 15,
     "metadata": {},
     "output_type": "execute_result"
    }
   ],
   "source": [
    "print(f'Data Type of the Resposne: {type(resp_job.content)} \\n')\n",
    "\n",
    "json_parser = JsonOutputParser()\n",
    "json_dict = json_parser.parse(resp_job.content)\n",
    "\n",
    "print(f'Data Type of the Resposne: {type(json_dict)} \\n')\n",
    "\n",
    "json_dict"
   ]
  },
  {
   "cell_type": "code",
   "execution_count": 16,
   "id": "bdff76d4-2db0-427b-8bb5-eb6297e0d773",
   "metadata": {},
   "outputs": [],
   "source": [
    "jobs = json_dict['Skills']"
   ]
  },
  {
   "cell_type": "markdown",
   "id": "489af96e-01db-40e6-bead-d2230cb50ec3",
   "metadata": {},
   "source": [
    "## 5. Vector Store Index"
   ]
  },
  {
   "cell_type": "markdown",
   "id": "58316148-86d8-4cd2-8639-c0a89bf84384",
   "metadata": {},
   "source": [
    "### 5.1 Data Loading and Pre-Processing"
   ]
  },
  {
   "cell_type": "code",
   "execution_count": 17,
   "id": "fecd428d-9811-44b5-bf40-ec16e3a58b74",
   "metadata": {},
   "outputs": [
    {
     "name": "stdout",
     "output_type": "stream",
     "text": [
      "Shape of the Dataset: (20, 2) \n",
      "\n"
     ]
    },
    {
     "data": {
      "text/html": [
       "<div>\n",
       "<style scoped>\n",
       "    .dataframe tbody tr th:only-of-type {\n",
       "        vertical-align: middle;\n",
       "    }\n",
       "\n",
       "    .dataframe tbody tr th {\n",
       "        vertical-align: top;\n",
       "    }\n",
       "\n",
       "    .dataframe thead th {\n",
       "        text-align: right;\n",
       "    }\n",
       "</style>\n",
       "<table border=\"1\" class=\"dataframe\">\n",
       "  <thead>\n",
       "    <tr style=\"text-align: right;\">\n",
       "      <th></th>\n",
       "      <th>Techstack</th>\n",
       "      <th>Links</th>\n",
       "    </tr>\n",
       "  </thead>\n",
       "  <tbody>\n",
       "    <tr>\n",
       "      <th>0</th>\n",
       "      <td>React, Node.js, MongoDB</td>\n",
       "      <td>https://example.com/react-portfolio</td>\n",
       "    </tr>\n",
       "    <tr>\n",
       "      <th>1</th>\n",
       "      <td>Angular,.NET, SQL Server</td>\n",
       "      <td>https://example.com/angular-portfolio</td>\n",
       "    </tr>\n",
       "    <tr>\n",
       "      <th>2</th>\n",
       "      <td>Vue.js, Ruby on Rails, PostgreSQL</td>\n",
       "      <td>https://example.com/vue-portfolio</td>\n",
       "    </tr>\n",
       "    <tr>\n",
       "      <th>3</th>\n",
       "      <td>Python, Django, MySQL</td>\n",
       "      <td>https://example.com/python-portfolio</td>\n",
       "    </tr>\n",
       "    <tr>\n",
       "      <th>4</th>\n",
       "      <td>Java, Spring Boot, Oracle</td>\n",
       "      <td>https://example.com/java-portfolio</td>\n",
       "    </tr>\n",
       "  </tbody>\n",
       "</table>\n",
       "</div>"
      ],
      "text/plain": [
       "                           Techstack                                  Links\n",
       "0            React, Node.js, MongoDB    https://example.com/react-portfolio\n",
       "1           Angular,.NET, SQL Server  https://example.com/angular-portfolio\n",
       "2  Vue.js, Ruby on Rails, PostgreSQL      https://example.com/vue-portfolio\n",
       "3              Python, Django, MySQL   https://example.com/python-portfolio\n",
       "4          Java, Spring Boot, Oracle     https://example.com/java-portfolio"
      ]
     },
     "execution_count": 17,
     "metadata": {},
     "output_type": "execute_result"
    }
   ],
   "source": [
    "df = pd.read_csv(r'./data/links.csv')\n",
    "\n",
    "print(f'Shape of the Dataset: {df.shape} \\n')\n",
    "\n",
    "df.head()"
   ]
  },
  {
   "cell_type": "code",
   "execution_count": 18,
   "id": "3fa54888-0828-4016-bb55-91448586f657",
   "metadata": {},
   "outputs": [],
   "source": [
    "# Preparing Documents from the CSV file features\n",
    "\n",
    "def data_prep(dff): \n",
    "    # Preparing a list of Dictionary of items \n",
    "    datas = []\n",
    "    \n",
    "    for idx, row in dff.iterrows():        \n",
    "        obj = {\n",
    "            'Techstack':row['Techstack'],\n",
    "            'Links':row['Links']\n",
    "        }\n",
    "        datas.append(obj)\n",
    "\n",
    "    \n",
    "    # Preparing a list of Documents\n",
    "    docs = []\n",
    "    \n",
    "    for obj in datas:\n",
    "        te_xt = obj['Techstack']\n",
    "        meta_data = {'Links':obj['Links']}\n",
    "            \n",
    "        doc = Document(page_content=te_xt, metadata=meta_data)\n",
    "        docs.append(doc)\n",
    "\n",
    "    return docs"
   ]
  },
  {
   "cell_type": "code",
   "execution_count": 19,
   "id": "455de6fd-ff73-42bd-8051-a733b34cbe2b",
   "metadata": {},
   "outputs": [],
   "source": [
    "docs = data_prep(df)"
   ]
  },
  {
   "cell_type": "code",
   "execution_count": 20,
   "id": "355026e8-e577-44bb-969c-e879574d12b1",
   "metadata": {},
   "outputs": [
    {
     "data": {
      "text/plain": [
       "[Document(metadata={'Links': 'https://example.com/react-portfolio'}, page_content='React, Node.js, MongoDB'),\n",
       " Document(metadata={'Links': 'https://example.com/angular-portfolio'}, page_content='Angular,.NET, SQL Server')]"
      ]
     },
     "execution_count": 20,
     "metadata": {},
     "output_type": "execute_result"
    }
   ],
   "source": [
    "docs[:2]"
   ]
  },
  {
   "cell_type": "markdown",
   "id": "a89cd99d-3da0-4c6a-9276-48416389279e",
   "metadata": {},
   "source": [
    "### 5.2 Create Persistent Vector Store"
   ]
  },
  {
   "cell_type": "code",
   "execution_count": 21,
   "id": "27ee507d-a3bc-46d4-81aa-c3410e8924fe",
   "metadata": {},
   "outputs": [
    {
     "name": "stdout",
     "output_type": "stream",
     "text": [
      "Creating Chroma Vector DB ... wait \n",
      "\n",
      "Chroma Vector DB created successfully ... \n",
      "\n"
     ]
    }
   ],
   "source": [
    "print('Creating Chroma Vector DB ... wait \\n')\n",
    "\n",
    "client = chromadb.PersistentClient('./chroma_db')\n",
    "collection = client.get_or_create_collection(name=\"portfolio\")\n",
    "\n",
    "if collection.count():\n",
    "    print('Collection Exists ...')\n",
    "else:\n",
    "    for idx, row in df.iterrows():\n",
    "        collection.add(documents=row[\"Techstack\"],\n",
    "                       metadatas={\"Links\": row[\"Links\"]},\n",
    "                       ids=[str(uuid.uuid4())])\n",
    "        \n",
    "print('Chroma Vector DB created successfully ... \\n')"
   ]
  },
  {
   "cell_type": "markdown",
   "id": "2e65bc07-316c-4ace-aeac-0452bbe84771",
   "metadata": {},
   "source": [
    "### 5.2 Load Vector Store"
   ]
  },
  {
   "cell_type": "code",
   "execution_count": 22,
   "id": "3869eca6-a767-475d-823e-b7658565c93e",
   "metadata": {},
   "outputs": [
    {
     "name": "stdout",
     "output_type": "stream",
     "text": [
      "Loading Chroma Vector DB ... wait \n",
      "\n",
      "Chroma Vector DB loaded successfully ... \n",
      "\n"
     ]
    }
   ],
   "source": [
    "print('Loading Chroma Vector DB ... wait \\n')\n",
    "\n",
    "client = chromadb.PersistentClient('./chroma_db')\n",
    "collection = client.get_collection(name=\"portfolio\")\n",
    "\n",
    "print('Chroma Vector DB loaded successfully ... \\n')"
   ]
  },
  {
   "cell_type": "markdown",
   "id": "1cc18f1d-e5da-45c6-9a0d-3ea7685083a3",
   "metadata": {},
   "source": [
    "## 6. Job Similarity Search and Links Metadata Output"
   ]
  },
  {
   "cell_type": "code",
   "execution_count": 23,
   "id": "83554667-8db5-4c1f-bff1-5994ff49b107",
   "metadata": {},
   "outputs": [
    {
     "data": {
      "text/plain": [
       "[('Advance SQL experience', 'https://example.com/angular-portfolio'),\n",
       " ('Basic knowledge of Python', 'https://example.com/ml-python-portfolio'),\n",
       " ('Google Looker or another visualization tool',\n",
       "  'https://example.com/ml-python-portfolio'),\n",
       " ('Automation projects related to data integration, data extraction, and data visualization',\n",
       "  'https://example.com/magento-portfolio'),\n",
       " ('Advanced excel knowledge', 'https://example.com/ml-python-portfolio'),\n",
       " ('VBA', 'https://example.com/ml-python-portfolio'),\n",
       " ('Analytics and critical thinking', 'https://example.com/ios-portfolio'),\n",
       " ('Looker Studio for visualization',\n",
       "  'https://example.com/ml-python-portfolio')]"
      ]
     },
     "execution_count": 23,
     "metadata": {},
     "output_type": "execute_result"
    }
   ],
   "source": [
    "links = []\n",
    "\n",
    "for job in jobs:\n",
    "    resp = collection.query(query_texts=job, n_results=1).get('metadatas', [])\n",
    "    # print(job)\n",
    "    # print(resp[0][0]['Links'])\n",
    "    links.append((job,resp[0][0]['Links']))\n",
    "\n",
    "links"
   ]
  },
  {
   "cell_type": "markdown",
   "id": "49bec1fd-d700-4f06-bc1f-f97bd103bc43",
   "metadata": {},
   "source": [
    "## 7. Cold Email Generation "
   ]
  },
  {
   "cell_type": "markdown",
   "id": "7f7b62eb-9250-4cc5-ae08-8df18b132683",
   "metadata": {},
   "source": [
    "### 7.1 Prompt Template for Email Generation"
   ]
  },
  {
   "cell_type": "code",
   "execution_count": 24,
   "id": "2ee1b91c-788e-43a0-9fb2-9b7a59d1bbf9",
   "metadata": {},
   "outputs": [
    {
     "data": {
      "text/plain": [
       "PromptTemplate(input_variables=['job_descriptions', 'links'], input_types={}, partial_variables={}, template=\"\\n\\n### JOB DESCRIPTION:\\n{job_descriptions}\\n\\n### INSTRUCTION:\\nYou are John, working as a Business Development Executive at ABC Corporation. \\n\\nABC is an AI & Software Consulting company dedicated to facilitating the seamless integration of business processes \\nthrough automated tools. \\nWith our experience, we have empowered numerous enterprises with tailored solutions, fostering scalability, \\nprocess optimization, cost reduction, and improved overall efficiency. \\n\\nYour job is to write a convincing cold email to the hiring manager regarding the job description mentioned above \\ndescribing the capability of ABC in fulfilling their needs.\\n\\nAlso add the most relevant links as list from the following list of links to showcase ABC's portfolio: {links}\\n\\nAdd your formal details with designation at the end as given below:\\nJohn,\\nBusiness Developement Executive,\\nABC Corporation\\n\\nDo not provide a preamble.\\n### EMAIL (NO PREAMBLE):\\n        \\n\")"
      ]
     },
     "execution_count": 24,
     "metadata": {},
     "output_type": "execute_result"
    }
   ],
   "source": [
    "email_template = \"\"\"\n",
    "\n",
    "### JOB DESCRIPTION:\n",
    "{job_descriptions}\n",
    "\n",
    "### INSTRUCTION:\n",
    "You are John, working as a Business Development Executive at ABC Corporation. \n",
    "\n",
    "ABC is an AI & Software Consulting company dedicated to facilitating the seamless integration of business processes \n",
    "through automated tools. \n",
    "With our experience, we have empowered numerous enterprises with tailored solutions, fostering scalability, \n",
    "process optimization, cost reduction, and improved overall efficiency. \n",
    "\n",
    "Your job is to write a convincing cold email to the hiring manager regarding the job description mentioned above \n",
    "describing the capability of ABC in fulfilling their needs.\n",
    "\n",
    "Also add the most relevant links as list from the following list of links to showcase ABC's portfolio: {links}\n",
    "\n",
    "Add your formal details with designation at the end as given below:\n",
    "John,\n",
    "Business Developement Executive,\n",
    "ABC Corporation\n",
    "\n",
    "Do not provide a preamble.\n",
    "### EMAIL (NO PREAMBLE):\n",
    "        \n",
    "\"\"\"\n",
    "\n",
    "gen_email_template = PromptTemplate.from_template(email_template)\n",
    "gen_email_template"
   ]
  },
  {
   "cell_type": "markdown",
   "id": "c3f74c73-8097-47da-b46f-3a5bd5114099",
   "metadata": {},
   "source": [
    "### 7.2 GROQ API Call to Generate the Cold Email"
   ]
  },
  {
   "cell_type": "code",
   "execution_count": 25,
   "id": "9abfa4ff-40f3-4426-a8d2-9763a09bc447",
   "metadata": {},
   "outputs": [],
   "source": [
    "chain_email = gen_email_template | groq_llm\n",
    "resp_email = chain_email.invoke(input={'job_descriptions':str(jobs), 'links':links})"
   ]
  },
  {
   "cell_type": "markdown",
   "id": "d229b1d6-822b-4548-bb25-107758f76302",
   "metadata": {},
   "source": [
    "### 7.3 Generated Email Content"
   ]
  },
  {
   "cell_type": "code",
   "execution_count": 26,
   "id": "c924c95a-0d2a-44ba-8bf6-668bd44d9932",
   "metadata": {},
   "outputs": [
    {
     "data": {
      "text/markdown": [
       "Subject: Unlock the Full Potential of Your Business with ABC Corporation\n",
       "\n",
       "Dear [Hiring Manager's Name],\n",
       "\n",
       "I came across your job description for a skilled professional with expertise in advanced SQL, Python, and data visualization tools. I am excited to introduce you to ABC Corporation, a leading AI & Software Consulting company that has been empowering enterprises with tailored solutions for seamless business process integration.\n",
       "\n",
       "At ABC Corporation, we pride ourselves on delivering cutting-edge automation projects that cater to data integration, data extraction, and data visualization needs. Our team of experts has a proven track record of leveraging advanced excel knowledge, VBA, and analytics to drive business growth and efficiency. We have successfully implemented projects using Google Looker and Looker Studio for visualization, ensuring that our clients gain valuable insights into their operations.\n",
       "\n",
       "I would like to highlight some of our notable projects that align with your requirements:\n",
       "\n",
       "- **Advanced SQL Experience**: [https://example.com/angular-portfolio](https://example.com/angular-portfolio)\n",
       "- **Automation projects related to data integration, data extraction, and data visualization**: [https://example.com/magento-portfolio](https://example.com/magento-portfolio)\n",
       "- **Google Looker or another visualization tool**: [https://example.com/ml-python-portfolio](https://example.com/ml-python-portfolio)\n",
       "- **Looker Studio for visualization**: [https://example.com/ml-python-portfolio](https://example.com/ml-python-portfolio)\n",
       "\n",
       "Our team is passionate about delivering innovative solutions that drive business success. We would be delighted to discuss how ABC Corporation can support your organization's goals and objectives. Please feel free to contact me to schedule a call and explore how we can collaborate.\n",
       "\n",
       "Thank you for considering ABC Corporation. I look forward to the opportunity to discuss this further.\n",
       "\n",
       "Best regards,\n",
       "\n",
       "John,\n",
       "Business Development Executive,\n",
       "ABC Corporation"
      ],
      "text/plain": [
       "<IPython.core.display.Markdown object>"
      ]
     },
     "metadata": {},
     "output_type": "display_data"
    }
   ],
   "source": [
    "display(Markdown(resp_email.content))"
   ]
  },
  {
   "cell_type": "code",
   "execution_count": null,
   "id": "ec73e739-9b94-451f-88c8-16b4b1ad986f",
   "metadata": {},
   "outputs": [],
   "source": []
  }
 ],
 "metadata": {
  "kernelspec": {
   "display_name": "Python 3 (ipykernel)",
   "language": "python",
   "name": "python3"
  },
  "language_info": {
   "codemirror_mode": {
    "name": "ipython",
    "version": 3
   },
   "file_extension": ".py",
   "mimetype": "text/x-python",
   "name": "python",
   "nbconvert_exporter": "python",
   "pygments_lexer": "ipython3",
   "version": "3.12.8"
  }
 },
 "nbformat": 4,
 "nbformat_minor": 5
}
